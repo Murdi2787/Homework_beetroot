{
 "cells": [
  {
   "cell_type": "code",
   "execution_count": 1,
   "metadata": {},
   "outputs": [],
   "source": [
    "# Задание №1\n",
    "# Создать файл nums.txt с рандомными цифрами \n",
    "# и нужно среди них найти самую большую цифру и написать его уже в новый max_num.txt файл\n"
   ]
  },
  {
   "cell_type": "code",
   "execution_count": 2,
   "metadata": {},
   "outputs": [],
   "source": [
    "# Задание №2\n",
    "# Создайте файл nums.txt, содержащий несколько чисел, записанных через пробел.\n",
    "# Напишите программу, которая подсчитывает и выводит на экран общую сумму чисел, хранящихся в этом файле."
   ]
  },
  {
   "cell_type": "code",
   "execution_count": 3,
   "metadata": {},
   "outputs": [],
   "source": [
    "# # Задание №3\n",
    "# Посчитать количество строк в файле и количество слов и символов в каждой строке https://ru.lipsum.com/feed/html"
   ]
  },
  {
   "cell_type": "code",
   "execution_count": 4,
   "metadata": {},
   "outputs": [],
   "source": [
    "# Задание №4\n",
    "# Создать текстовый файл, записать в него построчно данные, которые вводит пользователь. \n",
    "# Окончанием ввода пусть служит пустая строка."
   ]
  },
  {
   "cell_type": "code",
   "execution_count": 5,
   "metadata": {},
   "outputs": [],
   "source": [
    "# Задание №5\n",
    "# В текстовый файл построчно записаны фамилия и имя учащихся класса и его оценка за контрольную. \n",
    "# Вывести на экран всех учащихся, чья оценка меньше 3 баллов и посчитать средний балл по классу.\n",
    "# Создать отдельные файлы по классам."
   ]
  },
  {
   "cell_type": "code",
   "execution_count": 7,
   "metadata": {},
   "outputs": [],
   "source": [
    "# Задание №6\n",
    "# Прочитать файл https://jsonplaceholder.typicode.com/todos, записать в новый файл все объекты с completed: true"
   ]
  },
  {
   "cell_type": "code",
   "execution_count": 8,
   "metadata": {},
   "outputs": [],
   "source": [
    "# Задание №7\n",
    "# Посчитать количество повторяющихся слов в первом абзаце https://ru.lipsum.com/feed/html из файла."
   ]
  },
  {
   "cell_type": "code",
   "execution_count": null,
   "metadata": {},
   "outputs": [],
   "source": [
    "# Задание №8\n",
    "# Создать два файла .json из https://jsonplaceholder.typicode.com/todos в одном файле содержится id и title,\n",
    "# в другом файле - id и completed. \n",
    "# В результирующий файл записать JSON: {\"id\": 56, \"title\": \"\", \"completed\": true}"
   ]
  }
 ],
 "metadata": {
  "kernelspec": {
   "display_name": "Python 3",
   "language": "python",
   "name": "python3"
  },
  "language_info": {
   "codemirror_mode": {
    "name": "ipython",
    "version": 3
   },
   "file_extension": ".py",
   "mimetype": "text/x-python",
   "name": "python",
   "nbconvert_exporter": "python",
   "pygments_lexer": "ipython3",
   "version": "3.7.3"
  }
 },
 "nbformat": 4,
 "nbformat_minor": 2
}
