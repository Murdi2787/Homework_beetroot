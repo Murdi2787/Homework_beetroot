{
 "cells": [
  {
   "cell_type": "code",
   "execution_count": 3,
   "metadata": {},
   "outputs": [
    {
     "name": "stdout",
     "output_type": "stream",
     "text": [
      "Введите список: 1 2 3 3 4\n"
     ]
    },
    {
     "data": {
      "text/plain": [
       "True"
      ]
     },
     "execution_count": 3,
     "metadata": {},
     "output_type": "execute_result"
    }
   ],
   "source": [
    "#Задание №1\n",
    "# Дан список чисел L. Написать функцию, которая вернет True если сумма первых 4 элементов списка равны 9. \n",
    "# При этом функция должна вызываться только если длина списка больше 4.\n",
    "\n",
    "def L_fun(L):\n",
    "    if len(L) > 4 and sum(L[:4]) is 9:\n",
    "        return True\n",
    "    else:\n",
    "        return False\n",
    "L = list(map(int,input('Введите список: ').split( )))\n",
    "L_fun(L)"
   ]
  },
  {
   "cell_type": "code",
   "execution_count": 58,
   "metadata": {},
   "outputs": [
    {
     "data": {
      "text/plain": [
       "True"
      ]
     },
     "execution_count": 58,
     "metadata": {},
     "output_type": "execute_result"
    }
   ],
   "source": [
    "#Задание №2\n",
    "# Написать функцию, которая будет возвращать True если в списке, \n",
    "# который передается функции как аргумент присутствует последовательность чисел 1, 2, 3, 4\n",
    "\n",
    "def L_func():\n",
    "    if S.issubset(S2):\n",
    "        return True\n",
    "    else:\n",
    "        return False\n",
    "L = [1,2,3,4]\n",
    "L2 = [9,5,7,1,2,3,4,6]\n",
    "S = set(L)\n",
    "S2 = set(L2)\n",
    "L_func()"
   ]
  },
  {
   "cell_type": "code",
   "execution_count": 44,
   "metadata": {},
   "outputs": [
    {
     "data": {
      "text/plain": [
       "True"
      ]
     },
     "execution_count": 44,
     "metadata": {},
     "output_type": "execute_result"
    }
   ],
   "source": [
    "#Задание №3\n",
    "# Написать функцию, которая принимает список как аргумент и возвращает True \n",
    "# если первый и последний элемент в списке равен 6\n",
    "\n",
    "def L_func():\n",
    "    if sum(L[::3]) is 6:\n",
    "        return True\n",
    "    else:\n",
    "        return False\n",
    "L = [2,5,1,4]\n",
    "L_func()"
   ]
  },
  {
   "cell_type": "code",
   "execution_count": 2,
   "metadata": {},
   "outputs": [],
   "source": [
    "#Задание №4\n",
    "# Написать функцию, которая принимает 2 списка и возвращает True \n",
    "# если первые или последние элементы списка равны\n"
   ]
  },
  {
   "cell_type": "code",
   "execution_count": 3,
   "metadata": {},
   "outputs": [],
   "source": [
    "#Задание №5\n",
    "# Написать функцию, которая принимает 3 списка и возвращает их общую сумму элементов\n"
   ]
  },
  {
   "cell_type": "code",
   "execution_count": 4,
   "metadata": {},
   "outputs": [],
   "source": [
    "#Задание №6\n",
    "# Перевернуть список: [1,2,3,4] => [4,3,2,1]\n"
   ]
  },
  {
   "cell_type": "code",
   "execution_count": 5,
   "metadata": {},
   "outputs": [],
   "source": [
    "#Задание №7\n",
    "# Определить самый большой элемент списка и заменить им все элементы. Длина списка не больше 5\n"
   ]
  },
  {
   "cell_type": "code",
   "execution_count": 6,
   "metadata": {},
   "outputs": [],
   "source": [
    "#Задание №8\n",
    "# Написать функцию, которая вернет сумму первых 2 элементов в списке. \n",
    "# Если длина списка меньше 2, просто суммируйте существующие элементы, возвращая 0, если массив имеет длину 0.\n"
   ]
  },
  {
   "cell_type": "code",
   "execution_count": null,
   "metadata": {},
   "outputs": [],
   "source": [
    "# Задание №8\n",
    "# Написать функцию, которая вернет сумму первых 2 элементов в списке. \n",
    "# Если длина списка меньше 2, просто суммируйте существующие элементы, возвращая 0, если массив имеет длину 0.\n"
   ]
  },
  {
   "cell_type": "code",
   "execution_count": 7,
   "metadata": {},
   "outputs": [],
   "source": [
    "#Задание №9\n",
    "# Дано 2 списка int, a и b, длина каждого равна 3.Написать функцию, \n",
    "# которая принимает оба списка и возвращает новый список длиной 2, содержащий их средние элементы.\n"
   ]
  },
  {
   "cell_type": "code",
   "execution_count": 8,
   "metadata": {},
   "outputs": [],
   "source": [
    "#Задание №10\n",
    "# Написать функцию, которая принимает список как аргумент и возвращает True если цифры 2 и 3 есть в этом списке\n"
   ]
  },
  {
   "cell_type": "code",
   "execution_count": 9,
   "metadata": {},
   "outputs": [],
   "source": [
    "#Задание №11\n",
    "# Дан список чисел [1,2,3,2,1]. Определите, сколько в нем встречается различных чисел.\n"
   ]
  },
  {
   "cell_type": "code",
   "execution_count": 10,
   "metadata": {},
   "outputs": [],
   "source": [
    "#Задание №12\n",
    "# Даны два списка чисел: [1, 3, 2], [4, 3, 2] \n",
    "# Посчитайте, сколько чисел содержится одновременно как в первом списке, так и во втором.\n"
   ]
  },
  {
   "cell_type": "code",
   "execution_count": 11,
   "metadata": {},
   "outputs": [],
   "source": [
    "#Задание №13\n",
    "# Даны два списка чисел: [1, 2, 6, 4, 5, 7], [10, 2, 3, 4, 8] \n",
    "# Найдите все числа, которые входят как в первый, так и во второй список и выведите их в порядке возрастания.\n"
   ]
  },
  {
   "cell_type": "code",
   "execution_count": null,
   "metadata": {},
   "outputs": [],
   "source": [
    "#Задание №14\n",
    "# Посчитать количество слов в первом абзаце текста: https://ru.lipsum.com/feed/html\n"
   ]
  }
 ],
 "metadata": {
  "kernelspec": {
   "display_name": "Python 3",
   "language": "python",
   "name": "python3"
  },
  "language_info": {
   "codemirror_mode": {
    "name": "ipython",
    "version": 3
   },
   "file_extension": ".py",
   "mimetype": "text/x-python",
   "name": "python",
   "nbconvert_exporter": "python",
   "pygments_lexer": "ipython3",
   "version": "3.7.3"
  }
 },
 "nbformat": 4,
 "nbformat_minor": 2
}
