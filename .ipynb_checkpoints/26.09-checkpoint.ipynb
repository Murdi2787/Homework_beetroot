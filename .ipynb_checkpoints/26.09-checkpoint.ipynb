{
 "cells": [
  {
   "cell_type": "code",
   "execution_count": 2,
   "metadata": {},
   "outputs": [
    {
     "name": "stdout",
     "output_type": "stream",
     "text": [
      "35.0 0.5\n"
     ]
    }
   ],
   "source": [
    "full_part = (15**2 - 20 + 5.5) // 6\n",
    "last = (15**2 - 20 + 5.5) % 6\n",
    "print(full_part,last)"
   ]
  },
  {
   "cell_type": "code",
   "execution_count": 13,
   "metadata": {},
   "outputs": [
    {
     "name": "stdout",
     "output_type": "stream",
     "text": [
      "35.0 0.5\n"
     ]
    }
   ],
   "source": [
    "def math(a, b, c, d, f):\n",
    "    full_part =(a**b - c + d) // f\n",
    "    last = (a**b - c + d) % f\n",
    "    print(full_part,last)\n",
    "math(15, 2, 20, 5.5, 6)"
   ]
  },
  {
   "cell_type": "code",
   "execution_count": 5,
   "metadata": {},
   "outputs": [
    {
     "name": "stdout",
     "output_type": "stream",
     "text": [
      "Please enter your phone number:380973910105\n",
      "+38 (097) 391 - 01 - 05\n"
     ]
    }
   ],
   "source": [
    "phone_num = input('Please enter your phone number:')\n",
    "ph_num_part1 = phone_num[0:2]\n",
    "ph_num_part2 = phone_num[2:5]\n",
    "ph_num_part3 = phone_num[5:8]\n",
    "ph_num_part4 = phone_num[8:10]\n",
    "ph_num_part5 = phone_num[10:12]\n",
    "print(f'+{ph_num_part1} ({ph_num_part2}) {ph_num_part3} - {ph_num_part4} - {ph_num_part5}')"
   ]
  },
  {
   "cell_type": "code",
   "execution_count": 38,
   "metadata": {},
   "outputs": [
    {
     "name": "stdout",
     "output_type": "stream",
     "text": [
      "Иванов Иван Иванович, возраст: 29\n"
     ]
    }
   ],
   "source": [
    "def person_info(ln, fn, sn, bd):\n",
    "    fio = str.title(ln+fn+sn)\n",
    "    age = 2019 - bd\n",
    "    print(f'{fio}, возраст: {age}')\n",
    "person_info('Иванов ', 'Иван ', 'Иванович', 1990) "
   ]
  },
  {
   "cell_type": "code",
   "execution_count": null,
   "metadata": {},
   "outputs": [],
   "source": []
  },
  {
   "cell_type": "code",
   "execution_count": null,
   "metadata": {},
   "outputs": [],
   "source": []
  },
  {
   "cell_type": "code",
   "execution_count": null,
   "metadata": {},
   "outputs": [],
   "source": []
  },
  {
   "cell_type": "code",
   "execution_count": null,
   "metadata": {},
   "outputs": [],
   "source": []
  }
 ],
 "metadata": {
  "kernelspec": {
   "display_name": "Python 3",
   "language": "python",
   "name": "python3"
  },
  "language_info": {
   "codemirror_mode": {
    "name": "ipython",
    "version": 3
   },
   "file_extension": ".py",
   "mimetype": "text/x-python",
   "name": "python",
   "nbconvert_exporter": "python",
   "pygments_lexer": "ipython3",
   "version": "3.7.3"
  }
 },
 "nbformat": 4,
 "nbformat_minor": 2
}
