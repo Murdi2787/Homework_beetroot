{
 "cells": [
  {
   "cell_type": "code",
   "execution_count": null,
   "metadata": {},
   "outputs": [],
   "source": [
    "list_1 = [1,2,3,4]\n",
    "for i in list_1:\n",
    "    print(i)"
   ]
  },
  {
   "cell_type": "code",
   "execution_count": null,
   "metadata": {},
   "outputs": [],
   "source": [
    "i = 0\n",
    "while i < len(list_1):\n",
    "    print(list_1[i])\n",
    "    i += 1"
   ]
  },
  {
   "cell_type": "code",
   "execution_count": null,
   "metadata": {},
   "outputs": [],
   "source": [
    "#while True Бессконечный цикл\n",
    "i = 0\n",
    "while i < len(list_1):\n",
    "    print(i)\n",
    "    i += 1\n",
    "    if i > 1:\n",
    "        break"
   ]
  },
  {
   "cell_type": "code",
   "execution_count": null,
   "metadata": {},
   "outputs": [],
   "source": [
    "i = 0\n",
    "list_1 =[1,2,3,4]\n",
    "while i < len(list_1):\n",
    "    print(list_1[i])\n",
    "    i += 1\n",
    "    if i == 2:\n",
    "        continue"
   ]
  },
  {
   "cell_type": "code",
   "execution_count": 2,
   "metadata": {},
   "outputs": [
    {
     "name": "stdout",
     "output_type": "stream",
     "text": [
      "3\n"
     ]
    }
   ],
   "source": [
    "#Lesson 6 Задание №1\n",
    "#Посчитать количество 9 в списке\n",
    "List_ex = [1,2,9,4,9,4,9]\n",
    "i = 0\n",
    "a = 0\n",
    "while i < len(List_ex):\n",
    "    if List_ex[i] is 9:\n",
    "        a += 1\n",
    "    i += 1\n",
    "       \n",
    "print(a)"
   ]
  },
  {
   "cell_type": "code",
   "execution_count": null,
   "metadata": {},
   "outputs": [],
   "source": [
    "List_ex = [1,2,9,4,9,4,9]\n",
    "count = 0\n",
    "for i in List_ex:\n",
    "    if i is 9:\n",
    "        count += 1\n",
    "print(count)"
   ]
  },
  {
   "cell_type": "code",
   "execution_count": 18,
   "metadata": {},
   "outputs": [
    {
     "name": "stdout",
     "output_type": "stream",
     "text": [
      "[17, 11, 4, 1, 16, 2, 9, 15, 18, 7]\n",
      "6 4\n"
     ]
    }
   ],
   "source": [
    "#Lesson 6 Задание №2\n",
    "#Вывести количество четный и нечетных елементов в рандомной последовательности.\n",
    "\n",
    "import random\n",
    "r_list = random.sample(range(20),10)\n",
    "print(r_list)\n",
    "i = 0 \n",
    "a = 0\n",
    "b = 0\n",
    "while i < len(r_list):\n",
    "    if r_list[i] % 2:\n",
    "        a += 1\n",
    "    else:\n",
    "        b += 1\n",
    "    i += 1\n",
    "print(a,b)"
   ]
  },
  {
   "cell_type": "code",
   "execution_count": 23,
   "metadata": {},
   "outputs": [
    {
     "name": "stdout",
     "output_type": "stream",
     "text": [
      "[6, 3, 2, 12, 10, 9, 1, 11, 19, 4]\n",
      "5 5\n"
     ]
    }
   ],
   "source": [
    "import random\n",
    "r_list = random.sample(range(20),10)\n",
    "print(r_list)\n",
    "count1 = 0\n",
    "count2 = 0\n",
    "for i in r_list:\n",
    "    if i % 2 == 0:\n",
    "       # print('Odd ', i)\n",
    "        count1 +=1\n",
    "    else:\n",
    "       # print('Even ', i)\n",
    "        count2 +=1\n",
    "print(count1, count2)"
   ]
  },
  {
   "cell_type": "code",
   "execution_count": 25,
   "metadata": {},
   "outputs": [
    {
     "name": "stdout",
     "output_type": "stream",
     "text": [
      "Введите последовательность чисел через пробел: 1 2 3 4 5 6\n"
     ]
    },
    {
     "ename": "ValueError",
     "evalue": "invalid literal for int() with base 10: '1 2 3 4 5 6'",
     "output_type": "error",
     "traceback": [
      "\u001b[0;31m---------------------------------------------------------------------------\u001b[0m",
      "\u001b[0;31mValueError\u001b[0m                                Traceback (most recent call last)",
      "\u001b[0;32m<ipython-input-25-5a0af12bd90e>\u001b[0m in \u001b[0;36m<module>\u001b[0;34m\u001b[0m\n\u001b[1;32m      3\u001b[0m \u001b[0;31m#если это число ранее встречалось в последовательности или NO, если не встречалось.\u001b[0m\u001b[0;34m\u001b[0m\u001b[0;34m\u001b[0m\u001b[0;34m\u001b[0m\u001b[0m\n\u001b[1;32m      4\u001b[0m \u001b[0;34m\u001b[0m\u001b[0m\n\u001b[0;32m----> 5\u001b[0;31m \u001b[0ma\u001b[0m \u001b[0;34m=\u001b[0m \u001b[0mint\u001b[0m\u001b[0;34m(\u001b[0m\u001b[0minput\u001b[0m\u001b[0;34m(\u001b[0m\u001b[0;34m'Введите последовательность чисел через пробел: '\u001b[0m\u001b[0;34m)\u001b[0m\u001b[0;34m)\u001b[0m\u001b[0;34m\u001b[0m\u001b[0;34m\u001b[0m\u001b[0m\n\u001b[0m",
      "\u001b[0;31mValueError\u001b[0m: invalid literal for int() with base 10: '1 2 3 4 5 6'"
     ]
    }
   ],
   "source": [
    "#Lesson 6 Задание №3\n",
    "#Пользователь должен ввести последовательность чисел через пробел.Для каждого числа выведите слово YES (в отдельной строке), \n",
    "#если это число ранее встречалось в последовательности или NO, если не встречалось.\n",
    "\n",
    "a = int(input('Введите последовательность чисел через пробел: '))\n",
    "i = 0\n",
    "while i < len(a):\n",
    "    if i "
   ]
  },
  {
   "cell_type": "code",
   "execution_count": null,
   "metadata": {},
   "outputs": [],
   "source": []
  },
  {
   "cell_type": "code",
   "execution_count": 26,
   "metadata": {},
   "outputs": [
    {
     "name": "stdout",
     "output_type": "stream",
     "text": [
      "Введите пароль: 31543415436\n",
      "Your password is strong\n"
     ]
    }
   ],
   "source": [
    "#Lesson 6 Задание №4\n",
    "# Написать функцию, которая будет принимать пароль. \n",
    "# Если в пароле есть 1 большая буква и хотя бы 5 цифр, и его длина не менее 10 символов вывести:\n",
    "# “Your password is strong.” в противном случае “Your password is not strong enough.”\n",
    "\n",
    "\n",
    "a = input('Введите пароль: ')\n",
    "def pswrd(a):\n",
    "    if len(a) >= 10:\n",
    "        print('Your password is strong')\n",
    "    if len(a) < 10:\n",
    "        print('Your password is not strong enough')\n",
    "pswrd(a)"
   ]
  },
  {
   "cell_type": "code",
   "execution_count": null,
   "metadata": {},
   "outputs": [],
   "source": []
  }
 ],
 "metadata": {
  "kernelspec": {
   "display_name": "Python 3",
   "language": "python",
   "name": "python3"
  },
  "language_info": {
   "codemirror_mode": {
    "name": "ipython",
    "version": 3
   },
   "file_extension": ".py",
   "mimetype": "text/x-python",
   "name": "python",
   "nbconvert_exporter": "python",
   "pygments_lexer": "ipython3",
   "version": "3.7.3"
  }
 },
 "nbformat": 4,
 "nbformat_minor": 2
}
