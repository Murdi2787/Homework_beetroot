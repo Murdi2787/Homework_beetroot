{
 "cells": [
  {
   "cell_type": "code",
   "execution_count": null,
   "metadata": {},
   "outputs": [],
   "source": [
    "if True:\n",
    "    print('Fine')"
   ]
  },
  {
   "cell_type": "code",
   "execution_count": null,
   "metadata": {},
   "outputs": [],
   "source": [
    "if False:\n",
    "    print ('Nothing')\n",
    "else:\n",
    "    print('Else')"
   ]
  },
  {
   "cell_type": "code",
   "execution_count": null,
   "metadata": {},
   "outputs": [],
   "source": [
    "a = 1\n",
    "if a:\n",
    "    print('It exists')"
   ]
  },
  {
   "cell_type": "code",
   "execution_count": null,
   "metadata": {},
   "outputs": [],
   "source": [
    "a = 1\n",
    "if a:\n",
    "    print('It exists')\n",
    "elif a == 0:\n",
    "    print('a == 0')\n",
    "else:\n",
    "    print('a dosen\\'\\t exists')"
   ]
  },
  {
   "cell_type": "code",
   "execution_count": null,
   "metadata": {},
   "outputs": [],
   "source": [
    "a = 0\n",
    "b = 1\n",
    "if a and b:\n",
    "    print('Conjuctio')\n",
    "#оба значения должны существовать"
   ]
  },
  {
   "cell_type": "code",
   "execution_count": null,
   "metadata": {},
   "outputs": [],
   "source": [
    "a = 0\n",
    "b = 1\n",
    "if a or b:\n",
    "    print('Conjuctio')"
   ]
  },
  {
   "cell_type": "code",
   "execution_count": null,
   "metadata": {},
   "outputs": [],
   "source": [
    "a = 1\n",
    "b = 1\n",
    "if a == b:\n",
    "    print('Equivalent')"
   ]
  },
  {
   "cell_type": "code",
   "execution_count": null,
   "metadata": {},
   "outputs": [],
   "source": [
    "a = 0\n",
    "b = 1\n",
    "if a == b:\n",
    "    print('Equivalent')"
   ]
  },
  {
   "cell_type": "code",
   "execution_count": null,
   "metadata": {},
   "outputs": [],
   "source": [
    "a = 0\n",
    "b = 1\n",
    "if not a:\n",
    "    print('Inversion')"
   ]
  },
  {
   "cell_type": "code",
   "execution_count": null,
   "metadata": {},
   "outputs": [],
   "source": [
    "#Задание №1\n",
    "def summ(a,b):\n",
    "    c = a*b\n",
    "    if c >= 10:\n",
    "        print(c)\n",
    "summ(5,6)"
   ]
  },
  {
   "cell_type": "code",
   "execution_count": null,
   "metadata": {},
   "outputs": [],
   "source": [
    "#Задание №2\n",
    "a = input('Введите пароль: ')\n",
    "def pswrd(a):\n",
    "    if len(a) >= 10:\n",
    "        print('Your password is strong')\n",
    "    if len(a) < 10:\n",
    "        print('Your password is not strong enough')\n",
    "pswrd(a)"
   ]
  },
  {
   "cell_type": "code",
   "execution_count": null,
   "metadata": {},
   "outputs": [],
   "source": [
    "#Задание №3\n",
    "summer = True\n",
    "t1 = int(input('T: '))\n",
    "def temp(t1, summer):\n",
    "    if t1 >= 60 and t1 <= 90:\n",
    "         print('True')\n",
    "    elif summer is True and t1 >= 60 and t1 <= 100:\n",
    "         print('True')\n",
    "    else:\n",
    "         print('False')\n",
    "temp(t1, summer)\n",
    "\n"
   ]
  },
  {
   "cell_type": "code",
   "execution_count": 3,
   "metadata": {},
   "outputs": [
    {
     "name": "stdout",
     "output_type": "stream",
     "text": [
      "17\n"
     ]
    }
   ],
   "source": [
    "#Задание №1 Урок 4\n",
    "import random\n",
    "a = random.randint(1,100)\n",
    "print(a)"
   ]
  },
  {
   "cell_type": "code",
   "execution_count": 18,
   "metadata": {},
   "outputs": [
    {
     "name": "stdout",
     "output_type": "stream",
     "text": [
      "3\n"
     ]
    }
   ],
   "source": [
    "#Задание №2 Урок 4\n",
    "import random\n",
    "a = [1,2,3,4,5,6]\n",
    "random.shuffle(a)\n",
    "b = random.choice(a)\n",
    "print(b)"
   ]
  },
  {
   "cell_type": "code",
   "execution_count": 12,
   "metadata": {},
   "outputs": [
    {
     "name": "stdout",
     "output_type": "stream",
     "text": [
      "0.43492912370788017\n"
     ]
    }
   ],
   "source": [
    "#Задание №3 Урок 4\n",
    "import random\n",
    "a = random.random()\n",
    "print(a)"
   ]
  },
  {
   "cell_type": "code",
   "execution_count": 13,
   "metadata": {},
   "outputs": [
    {
     "name": "stdout",
     "output_type": "stream",
     "text": [
      "14.177875680767023\n"
     ]
    }
   ],
   "source": [
    "#Задание №4 Урок 4\n",
    "import random\n",
    "a = random.uniform(0,25)\n",
    "print(a)"
   ]
  },
  {
   "cell_type": "code",
   "execution_count": 46,
   "metadata": {},
   "outputs": [
    {
     "ename": "SyntaxError",
     "evalue": "EOL while scanning string literal (<ipython-input-46-91a30bb18248>, line 4)",
     "output_type": "error",
     "traceback": [
      "\u001b[0;36m  File \u001b[0;32m\"<ipython-input-46-91a30bb18248>\"\u001b[0;36m, line \u001b[0;32m4\u001b[0m\n\u001b[0;31m    print(f'Your choice: {user})\u001b[0m\n\u001b[0m                                ^\u001b[0m\n\u001b[0;31mSyntaxError\u001b[0m\u001b[0;31m:\u001b[0m EOL while scanning string literal\n"
     ]
    }
   ],
   "source": [
    "#Задание №5 Урок 4\n",
    "print('Enter Rock, Paper or Scissors: ')\n",
    "user = str.title(input())\n",
    "print(f'Your choice: {user})\n",
    "a = ['Rock','Scissors','Paper']\n",
    "b = random.choice(a)\n",
    "print(f'Computer choice: {b})\n",
    "if b == 'Rock' and user == 'Scissors':\n",
    "    print('AI wins!')\n",
    "elif b == 'Rock' and user == 'Paper':\n",
    "    print('User wins!')\n",
    "elif b == 'Scissors' and user == 'Paper':\n",
    "    print('AI wins!')\n",
    "elif b == 'Scissors' and user == 'Rock':\n",
    "    print('User wins!')\n",
    "elif b == 'Paper' and user == 'Scissors':\n",
    "    print('User wins!')\n",
    "elif b == 'Paper' and user == 'Rock':\n",
    "    print('AI wins!')\n",
    "else:\n",
    "    print('Try again!')"
   ]
  },
  {
   "cell_type": "code",
   "execution_count": null,
   "metadata": {},
   "outputs": [],
   "source": []
  },
  {
   "cell_type": "code",
   "execution_count": null,
   "metadata": {},
   "outputs": [],
   "source": []
  }
 ],
 "metadata": {
  "kernelspec": {
   "display_name": "Python 3",
   "language": "python",
   "name": "python3"
  },
  "language_info": {
   "codemirror_mode": {
    "name": "ipython",
    "version": 3
   },
   "file_extension": ".py",
   "mimetype": "text/x-python",
   "name": "python",
   "nbconvert_exporter": "python",
   "pygments_lexer": "ipython3",
   "version": "3.7.3"
  }
 },
 "nbformat": 4,
 "nbformat_minor": 2
}
