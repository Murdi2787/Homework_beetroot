{
 "cells": [
  {
   "cell_type": "code",
   "execution_count": null,
   "metadata": {},
   "outputs": [],
   "source": [
    "# Задание №1\n",
    "# Написать функцию, которая будет принимать температуру по цельсию и возвращать ее перевод в \n",
    "# температуру по фаренгейту по формуле: (temp - 32) * (5/9)\n",
    "\n",
    "def F(nmbr):\n",
    "    a = (nmbr+32)*1.8\n",
    "    return a\n",
    "nmbr = int(input('Temp C: '))\n",
    "F(nmbr)"
   ]
  },
  {
   "cell_type": "code",
   "execution_count": null,
   "metadata": {},
   "outputs": [],
   "source": [
    "# Задание №2\n",
    "# Написать функцию поиска минимума в произвольном количестве элементов переданных в функцию\n",
    "\n",
    "import random\n",
    "def mimax(smpl):\n",
    "    L_sort = sorted(smpl)\n",
    "    mn = L_sort[0]\n",
    "    mx = L_sort[-1]\n",
    "    return mn , mx\n",
    "smpl = random.sample(range(30), 15)\n",
    "print(smpl)\n",
    "mimax(smpl)"
   ]
  },
  {
   "cell_type": "code",
   "execution_count": null,
   "metadata": {
    "scrolled": true
   },
   "outputs": [],
   "source": [
    "# Задание №3\n",
    "# Написать функцию которая принимает два аргумента: \n",
    "# первый аргумент отвечает за выбор пользователя: минимум или максимум, \n",
    "# второй аргумент - список элементов в котором нужно найти минимум или максимум\n",
    "\n",
    "import random\n",
    "L = random.sample(range(1,101), 15)\n",
    "print(L)\n",
    "\n",
    "def mn():\n",
    "    mn_1 = sorted(L)\n",
    "    mn_2 = mn_1[0]\n",
    "    return mn_2\n",
    "\n",
    "def mx():\n",
    "    mx_1 = sorted(L)\n",
    "    mx_2 = mx_1[-1]\n",
    "    return mx_2\n",
    "            \n",
    "my_dict = {\n",
    "    'min': mn,\n",
    "    'max': mx\n",
    "}\n",
    "mb_h = input('Min or Max? : ')\n",
    "my_dict[mb_h]()"
   ]
  },
  {
   "cell_type": "code",
   "execution_count": 2,
   "metadata": {},
   "outputs": [
    {
     "data": {
      "text/plain": [
       "({1, 4, 5}, {1, 4, 5})"
      ]
     },
     "execution_count": 2,
     "metadata": {},
     "output_type": "execute_result"
    }
   ],
   "source": [
    "# Задание №4\n",
    "# Написать функцию пересечения и функцию объединения неограниченного количества последовательностей\n",
    "\n",
    "def unity(L):\n",
    "    i = 1\n",
    "    while i < len(L):\n",
    "        Set1 = set(L[0])\n",
    "        Set2 = set(L[0])\n",
    "        Set1.intersection(set(L[i]))\n",
    "        Set2.union(set(L[i]))\n",
    "        i += 1\n",
    "        return Set1, Set2\n",
    "L =([1,4,5],[3,4,5],[5,6])\n",
    "unity(L)"
   ]
  },
  {
   "cell_type": "code",
   "execution_count": null,
   "metadata": {},
   "outputs": [],
   "source": [
    "# Задание №5\n",
    "# Имитировать работу функции print(*args, sep=’’, end=’\\n’) используя поток вывода sys.stdout.write(text)"
   ]
  },
  {
   "cell_type": "code",
   "execution_count": null,
   "metadata": {},
   "outputs": [],
   "source": [
    "# Задание №6\n",
    "# Написать функцию, которая принимает строку как аргумент\n",
    "# и возвращает ее в обратном порядке не используя функцию reversed или срезы.\n",
    "\n",
    "def rev_str(s):\n",
    "    new_string = []\n",
    "    i = len(s)\n",
    "    while i:\n",
    "        i -= 1                    \n",
    "        new_string.append(s[i])\n",
    "    return ''.join(new_string)\n",
    "s = '123456'\n",
    "rev_str(s)  "
   ]
  },
  {
   "cell_type": "code",
   "execution_count": 3,
   "metadata": {},
   "outputs": [
    {
     "name": "stdout",
     "output_type": "stream",
     "text": [
      "Введите длины сторон через запятую: 12 3 14\n"
     ]
    },
    {
     "data": {
      "text/plain": [
       "['12', '3', '14']"
      ]
     },
     "execution_count": 3,
     "metadata": {},
     "output_type": "execute_result"
    }
   ],
   "source": [
    "# Задание №7\n",
    "# Написать функцию для подсчета периметра фигуры в зависимости от того какую фигуру укажет пользователь\n",
    "\n",
    "def fig(us_inp):\n",
    "    a = us_inp.split()\n",
    "    \n",
    "    return a\n",
    "    \n",
    "us_inp = input('Введите длины сторон через запятую: ' )\n",
    "fig(us_inp)\n",
    "\n"
   ]
  },
  {
   "cell_type": "code",
   "execution_count": null,
   "metadata": {},
   "outputs": [],
   "source": [
    "# Задание №8\n",
    "# Написать функцию, которая генерирует матрицу размером n*n с рандомными числами. Размер указывает пользователь"
   ]
  },
  {
   "cell_type": "code",
   "execution_count": null,
   "metadata": {},
   "outputs": [],
   "source": [
    "# Задание №9\n",
    "# Используя матрицу из прошлого примера, написать функцию, \n",
    "# которая вернет номер ряда с максимальной суммой элементов."
   ]
  }
 ],
 "metadata": {
  "kernelspec": {
   "display_name": "Python 3",
   "language": "python",
   "name": "python3"
  },
  "language_info": {
   "codemirror_mode": {
    "name": "ipython",
    "version": 3
   },
   "file_extension": ".py",
   "mimetype": "text/x-python",
   "name": "python",
   "nbconvert_exporter": "python",
   "pygments_lexer": "ipython3",
   "version": "3.7.3"
  }
 },
 "nbformat": 4,
 "nbformat_minor": 2
}
