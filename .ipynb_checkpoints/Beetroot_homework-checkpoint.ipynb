{
 "cells": [
  {
   "cell_type": "code",
   "execution_count": null,
   "metadata": {},
   "outputs": [],
   "source": [
    "#Lesson 2 homework\n",
    "print('Please enter your name')\n",
    "name = str.title(input())\n",
    "\n",
    "print('Please enter your lastname')\n",
    "lastname = str.title(input())\n",
    "\n",
    "from datetime import date\n",
    "import calendar\n",
    "my_date = date.today()\n",
    "\n",
    "#calendar.day_name[my_date.weekday()] вывод дня недели по дате в календаре\n",
    "\n",
    "print(f'Hello {name} {lastname}! Have a nice {calendar.day_name[my_date.weekday()]}!')"
   ]
  },
  {
   "cell_type": "code",
   "execution_count": null,
   "metadata": {
    "scrolled": true
   },
   "outputs": [],
   "source": [
    "print('Please enter your name')\n",
    "name = str.title(input())\n",
    "\n",
    "print('Please enter your lastname')\n",
    "lastname = str.title(input())\n",
    "\n",
    "from datetime import date\n",
    "my_date = date.today()\n",
    "\n",
    "print(f'Hello {name} {lastname}! Today\\'s date {my_date}')"
   ]
  },
  {
   "cell_type": "code",
   "execution_count": null,
   "metadata": {},
   "outputs": [],
   "source": [
    "#Lesson 2 homework\n",
    "fname = str.title(input())\n",
    "lname = str.title(input())\n",
    "print(f'Nice to see you {fname} {lname}!')"
   ]
  },
  {
   "cell_type": "code",
   "execution_count": null,
   "metadata": {},
   "outputs": [],
   "source": [
    "#Lesson 2 homework\n",
    "n1 = int(input('Введите первое число: '))\n",
    "n2 = int(input('Введите второе число: '))\n",
    "res_add = n1+n2\n",
    "res_subtr = n1-n2\n",
    "res_div = n1/n2\n",
    "res_mult = n1*n2\n",
    "res_exp = n1**n2\n",
    "res_abs = abs(n1)\n",
    "print(f'Результаты вычислений:\\n -сложение: {res_add}\\n -вычитание: {res_subtr}\\n -деление: {res_div}\\n -умножение: {res_mult}\\n -степень: {res_exp}\\n -модуль: {res_abs}')\n"
   ]
  },
  {
   "cell_type": "code",
   "execution_count": null,
   "metadata": {},
   "outputs": [],
   "source": [
    "#Lesson 3 homework\n",
    "ph_num = input('Enter your phone number: ')\n",
    "ph_len = len(ph_num)\n",
    "if isinstance(ph_num, int) and ph_len == 10:\n",
    "    print('Your phone number is correct')\n",
    "else:\n",
    "    print('Try again')\n",
    "    "
   ]
  },
  {
   "cell_type": "code",
   "execution_count": null,
   "metadata": {},
   "outputs": [],
   "source": [
    "#Lesson 3 homework\n",
    "a = 10\n",
    "b = 2\n",
    "c = int(input(f'Чему ровняется {a}+{b}?'))\n",
    "if c == 12:\n",
    "    print(c)\n",
    "    print('Правильно!')\n",
    "else:\n",
    "    print(c)\n",
    "    print('Ответ неверный')"
   ]
  },
  {
   "cell_type": "code",
   "execution_count": null,
   "metadata": {},
   "outputs": [],
   "source": [
    "#Lesson 3 homework\n",
    "name = str.lower('Aleks')\n",
    "name_in = str.lower(input('what is your name?'))\n",
    "if name == name_in:\n",
    "    print(str.title(name))\n",
    "    print('Correct')\n",
    "else:\n",
    "    print('Incorrect')"
   ]
  },
  {
   "cell_type": "code",
   "execution_count": null,
   "metadata": {},
   "outputs": [],
   "source": [
    "#Lesson 4 homework\n",
    "import random\n",
    "tries = 0\n",
    "r_num = random.randint(0,50)\n",
    "while tries < 6:\n",
    "    tries+=1\n",
    "    guess = int(input('Введите ваш вариант: '))\n",
    "    if guess > r_num:\n",
    "        print('Загаданное число меньше')\n",
    "    elif guess < r_num:\n",
    "        print('Загаданное число больше')\n",
    "    elif guess == r_num:\n",
    "        print(f'Вы угадали число {r_num} за {tries} попытки!')\n",
    "        break\n",
    "    if guess != r_num and tries == 6:\n",
    "        print('Вы не угадали!')\n",
    "        break"
   ]
  },
  {
   "cell_type": "code",
   "execution_count": null,
   "metadata": {},
   "outputs": [],
   "source": [
    "#Lesson 4 homework\n",
    "name = str.title(input('Enter your name: '))\n",
    "age = int(input('Enter your age: '))\n",
    "print(f'Hello {name}, on your next birthday you’ll be {age+1} years old')"
   ]
  },
  {
   "cell_type": "code",
   "execution_count": 16,
   "metadata": {},
   "outputs": [
    {
     "name": "stdout",
     "output_type": "stream",
     "text": [
      "[7, 9, 8, 0, 6]\n",
      "[4, 0, 5, 8, 7]\n",
      "[0, 8, 7]\n"
     ]
    }
   ],
   "source": [
    "#Lesson 5 homework\n",
    "import random\n",
    "r_list1 = random.sample(range(10),5)\n",
    "r_list2 = random.sample(range(10),5)\n",
    "l_set = list(set(r_list1).intersection(set(r_list2)))\n",
    "print(r_list1)\n",
    "print(r_list2)\n",
    "print(l_set)\n"
   ]
  },
  {
   "cell_type": "code",
   "execution_count": 9,
   "metadata": {},
   "outputs": [
    {
     "name": "stdout",
     "output_type": "stream",
     "text": [
      "6\n",
      "[1, 2, 3, 4, 5, 6, 7, 8, 9, 10, 11, 12, 13, 14, 15, 16, 17, 18, 19, 20, 21, 22, 23, 24, 25, 26, 27, 28, 29, 30, 31, 32, 33, 34, 35, 36, 37, 38, 39, 40, 41, 42, 43, 44, 45, 46, 47, 48, 49, 50, 51, 52, 53, 54, 55, 56, 57, 58, 59, 60, 61, 62, 63, 64, 65, 66, 67, 68, 69, 70, 71, 72, 73, 74, 75, 76, 77, 78, 79, 80, 81, 82, 83, 84, 85, 86, 87, 88, 89, 90, 91, 92, 93, 94, 95, 96, 97, 98, 99, 100]\n"
     ]
    }
   ],
   "source": [
    "#Lesson 5 homework (через функцию map)\n",
    "import random\n",
    "r_list = list(range(1,101))\n",
    "i = r_list.index(7)\n",
    "print(i)\n",
    "print(r_list)\n",
    "\n",
    "#a = list(range(1,101))\n",
    "#def func(item):\n",
    "#    if item % 7 == 0 and item % 5 != 0:\n",
    "#        return item\n",
    "\n",
    "#print(list(map(func, a)))"
   ]
  },
  {
   "cell_type": "code",
   "execution_count": null,
   "metadata": {},
   "outputs": [],
   "source": [
    "a = 0\n",
    "b = 0 \n",
    "while a < 100:\n",
    "    a = a + 7\n",
    "    print(a)\n",
    "while b < 100:\n",
    "    b = b + 5\n",
    "    print(b)\n",
    "    "
   ]
  },
  {
   "cell_type": "code",
   "execution_count": null,
   "metadata": {},
   "outputs": [],
   "source": []
  }
 ],
 "metadata": {
  "kernelspec": {
   "display_name": "Python 3",
   "language": "python",
   "name": "python3"
  },
  "language_info": {
   "codemirror_mode": {
    "name": "ipython",
    "version": 3
   },
   "file_extension": ".py",
   "mimetype": "text/x-python",
   "name": "python",
   "nbconvert_exporter": "python",
   "pygments_lexer": "ipython3",
   "version": "3.7.3"
  }
 },
 "nbformat": 4,
 "nbformat_minor": 2
}
